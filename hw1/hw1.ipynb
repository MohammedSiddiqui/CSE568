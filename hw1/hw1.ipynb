{
 "cells": [
  {
   "cell_type": "markdown",
   "metadata": {},
   "source": [
    "\n",
    "**Name**: *Mohammed Siddiqui*\n",
    "\n",
    "**Student ID**: *15169*\n",
    "\n",
    "\n",
    "Assignment 1: Text Analysis and Entity Resolution\n",
    "===\n",
    "\n",
    "## Overview\n",
    "\n",
    "Entity resolution is a common, yet difficult problem in data cleaning and integration.\n",
    "In this assignment, we will use powerful and scalable text analysis techniques to perform entity resolution across two data sets of commercial products.\n",
    "\n",
    "NOTE: Please read the \"homework policy\" section on the course website.\n",
    "\n",
    "NOTE: You must submit a printed copy of a run ipython notebook at class on the due date. Also, a softcopy must be submitted, submission details for the softcopy submission will be provided in class."
   ]
  },
  {
   "cell_type": "markdown",
   "metadata": {},
   "source": [
    "### Entity Resolution\n",
    "\n",
    "Entity resolution, also known as record deduplication, is the process of identifying rows in one or more data sets that refer to the same real world entity.\n",
    "Take an example.\n",
    "You're on ebay looking for a [hip data science accessory][sliderulewiki], but you're on a budget, so you decide to scrape the [ebay listings][ebay] for a few days to get a feel for the market.\n",
    "Unfortunately, the listings are confusing and you don't know how to aggregate them.\n",
    "Entity resolution to the rescue!\n",
    "You find an [authoritative database][sliderules] and map all the ebay listings to it.\n",
    "Now you can comparison shop, get that sweet Keuffel and Esser for way cheap, and impress all the data hipsters.\n",
    "\n",
    "But finding matching records is a hard problem in general.\n",
    "A major reason is that the criteria for identifying duplicates are often vague and impossible to encode in rules.\n",
    "In addition, from a purely computational perspective, the problem is quadratic in the size of its inputs: naively, all pairs of records need to be compared to find all the duplicates.\n",
    "In this assignment, we will begin to address both these challenges.\n",
    "\n",
    "[sliderulewiki]: http://en.wikipedia.org/wiki/Slide_rule \"Only 2X faster than Hadoop\"\n",
    "\n",
    "[sliderules]: http://www.sliderule.ca/ \"Artisanal Data Technology\"\n",
    "\n",
    "[ebay]: http://www.ebay.com/sch/i.html?_odkw=keuffel+esser+slide+rule&_osacat=0&_trksid=p2045573.m570.l1313.TR0.TRC0.Xslide+rule&_nkw=slide+rule&_sacat=0&_from=R40 \"Impress your colleagues\""
   ]
  },
  {
   "cell_type": "markdown",
   "metadata": {},
   "source": [
    "\n",
    "### Application\n",
    "\n",
    "Your assignment is to perform entity resolution over two web-scraped data sets of commercial product listings, one from Amazon, and one from Google.\n",
    "The goal is to build a unified database of all products listed on the Internet: a one-stop-shop for all your shopping needs.  (Elevator pitch: *it's like **Kayak.com** for **e-commerce**!*)\n",
    "\n",
    "The web has made unprecedented amounts of data available publicly, but scraped data frequently needs to be de-duplicated.\n",
    "These data sets are typical examples of what you can collect with some simple scripting.\n",
    "The data is not especially large (just a few thousand records), but even so, you will find that entity resolution is a major challenge (top results with this data are ~50% success rate).\n",
    "Don't get discouraged; the goal is to get acquainted with techniques to tackle the problem, and apply them to a representative example.\n"
   ]
  },
  {
   "cell_type": "markdown",
   "metadata": {},
   "source": [
    "### Files\n",
    "\n",
    "Data files for this assignment can be found at hw1/hw1data.tar.gz in the zip file you downloaded for this assignment.\n",
    "\n",
    "The zip file includes the following files:\n",
    "\n",
    "* **Google.csv**, the Google Products data set \n",
    "* **Amazon.csv**, the Amazon data set\n",
    "* **Google_small.csv**, 200 records sampled from the Google data\n",
    "* **Amazon_small.csv**, 200 records sampled from the Amazon data\n",
    "* **Amazon_Google_perfectMapping.csv**, the \"gold standard\" mapping\n",
    "* **stopwords.txt**, a list of common English words\n",
    "\n",
    "Besides the complete data files, there are \"sample\" data files for each data set.\n",
    "Use these for **Part 1**.\n",
    "In addition, there is a \"gold standard\" file that contains all of the true mappings between entities in the two data sets.\n",
    "Every row in the gold standard file has a pair of record IDs (one Google, one Amazon) that belong to two record that describe the same thing in the real world.\n",
    "We will use the gold standard to evaluate our algorithms."
   ]
  },
  {
   "cell_type": "markdown",
   "metadata": {},
   "source": [
    "### Deliverables\n",
    "\n",
    "\n",
    "Complete all the exercises below and turn in a write up in the form of an IPython notebook, that is, **an .ipynb file**.\n",
    "The write up should include your code, answers to exercise questions, and plots of results.\n",
    "\n",
    "Use this notebook and fill in answers inline.\n",
    "In this notebook, we provide code templates for many of the exercises. Please use these templates.\n",
    "They are intended to help with code re-use, since the exercises build on each other.\n",
    "Remember to include answers to questions that ask for natural language responses, i.e., in English, not code!"
   ]
  },
  {
   "cell_type": "markdown",
   "metadata": {},
   "source": [
    "### Guidelines\n",
    "\n",
    "#### Code\n",
    "\n",
    "This assignment can be done with basic python and matplotlib.\n",
    "Feel free to use PANDAs, too, which you may find well suited to several exercises.\n",
    "As for other libraries, please check with course staff whether they're allowed.\n",
    "In general, we want you to use whatever is comfortable, except for libraries (e.g., NLTK) that include functionality covered in the assignment.\n",
    "\n",
    "You're not required to do your coding in IPython, so feel free to use your favorite editor or IDE.\n",
    "But when you're done, remember to put your code into a notebook for your write up.\n",
    "\n",
    "#### Collaboration\n",
    "\n",
    "This assignment is to be done individually.  Everyone should be getting a hands on experience in this course.  You are free to discuss course material with fellow students, and we encourage you to use Internet resources to aid your understanding, but the work you turn in, including all code and answers, must be your own work."
   ]
  },
  {
   "cell_type": "markdown",
   "metadata": {},
   "source": [
    "## Part 0: Preliminaries\n",
    "\n",
    "### Exercise 0\n",
    "\n",
    "Download the data and unzip it.\n",
    "Read each file in from the file system, and store them as lists of lines.\n",
    "\n",
    "For each of the data files (\"Google.csv\", \"Amazon.csv\", and the samples), we want to parse the IDs out of each record.\n",
    "The IDs are the first column of the file (they are URLs for Google, and alphanumeric strings for Amazon).\n",
    "Omitting the headers, load these data files into *dictionaries mapping ID to a string containing the rest of the record*.\n"
   ]
  },
  {
   "cell_type": "code",
   "execution_count": 1,
   "metadata": {},
   "outputs": [],
   "source": [
    "import os\n",
    "import pandas as pd\n",
    "#sets up pandas table display\n",
    "pd.set_option('display.width', 500)\n",
    "pd.set_option('display.max_columns', 100)\n",
    "pd.set_option('display.notebook_repr_html', True)\n",
    "\n",
    "project_path = os.getcwd() + '/hw1'\n",
    "\n",
    "# DATA_PATH = 'hw1data/data/'\n",
    "DATA_PATH = project_path + '/hw1data/data/'\n",
    "\n",
    "stopwords_file_path = DATA_PATH + 'stopwords.txt'\n",
    "amazon_file_path = DATA_PATH + 'Amazon.csv'\n",
    "amazon_small_file_path = DATA_PATH + 'Amazon_small.csv'\n",
    "google_file_path = DATA_PATH + 'Google.csv'\n",
    "google_small_file_path = DATA_PATH + 'Google_small.csv'\n",
    "amazon_google_perf_map_path = DATA_PATH + 'Amazon_Google_perfectMapping.csv'\n",
    "\n",
    "with open(stopwords_file_path, 'r') as stopwords_file:\n",
    "    stopwords = stopwords_file.read().splitlines()\n",
    "\n",
    "amazon_pd = pd.read_csv(amazon_file_path)\n",
    "amazon_small_pd = pd.read_csv(amazon_small_file_path)\n",
    "google_pd = pd.read_csv(google_file_path)\n",
    "google_small_pd = pd.read_csv(google_small_file_path)\n",
    "amazon_google_perf_map_pd = pd.read_csv(amazon_google_perf_map_path)"
   ]
  },
  {
   "cell_type": "markdown",
   "metadata": {},
   "source": [
    "## Part 1: ER as Text Similarity\n",
    "\n",
    "A simple approach to entity resolution is to treat all records as strings and compute their similarity with a string distance function.\n",
    "In this section, we will build some components for bag-of-words text-analysis, and use them to compute record similarity.\n",
    "\n",
    "### 1.1 Bags of Words\n",
    "\n",
    "Bag-of-words is a conceptually simple yet powerful approach to text analysis.\n",
    "The idea is to treat strings, a.k.a. **documents**, as *unordered collections* of words, or **tokens**, i.e., as bags of words.\n",
    "\n",
    "> **Note on terminology**: \"token\" is more general than what we ordinarily mean by \"word\" and includes things like numbers, acronyms, and other exotica like word-roots and fixed-length character strings.\n",
    "> Bag of words techniques all apply to any sort of token, so when we say \"bag-of-words\" we really mean \"bag-of-tokens,\" strictly speaking.\n",
    "\n",
    "Tokens become the atomic unit of text comparison.\n",
    "If we want to compare two documents, we count how many tokens they share in common.\n",
    "If we want to search for documents with keyword queries (this is what Google does), then we turn the keywords into tokens and find documents that contain them.\n",
    "\n",
    "The power of this approach is that it makes string comparisons insensitive to small differences that probably do not affect meaning much, for example, punctuation and word order.\n",
    "\n"
   ]
  },
  {
   "cell_type": "markdown",
   "metadata": {},
   "source": [
    "#### Exercise 1\n",
    "\n",
    "**a**. Implement the function `simple_tokenize(string)` that takes a string and returns a list of tokens in the string.\n",
    "`simple_tokenize` should split strings using the provided regular expression.\n",
    "Since we want to make token-matching case insensitive, make sure all tokens are lower-case.\n",
    "Give an interpretation, in natural language, of what the regular expression, `split_regex`, matches."
   ]
  },
  {
   "cell_type": "code",
   "execution_count": 2,
   "metadata": {},
   "outputs": [
    {
     "name": "stdout",
     "output_type": "stream",
     "text": [
      "['a', 'quick', 'brown', 'fox', 'jumps', 'over', 'the', 'lazy', 'dog']\n"
     ]
    }
   ],
   "source": [
    "import re\n",
    "\n",
    "quickbrownfox = \"A quick brown fox jumps over the lazy dog.\"\n",
    "split_regex = r'\\W+'\n",
    "\n",
    "def simple_tokenize(string):\n",
    "    reg = re.compile(split_regex)\n",
    "    filtered_tokens = filter(None, reg.split(string))\n",
    "    return [x.lower() for x in filtered_tokens] \n",
    "\n",
    "print simple_tokenize(quickbrownfox) # Should give ['a', 'quick', 'brown', ... ]"
   ]
  },
  {
   "cell_type": "markdown",
   "metadata": {},
   "source": [
    "> '\\W' matches any non-word character and a '+' sign is used to include repititons of it. So basically we're matching any non-word characters and then using them as a out split points."
   ]
  },
  {
   "cell_type": "markdown",
   "metadata": {},
   "source": [
    "**b**. *Stopwords* are common words that do not contribute much to the content or meaning of a document (e.g., \"the\", \"a\", \"is\", \"to\", etc.).\n",
    "Stopwords add noise to bag-of-words comparisons, so the are usually excluded.\n",
    "Using the included file \"stopwords.txt\", implement `tokenize`, an improved tokenizer that does not emit stopwords.\n"
   ]
  },
  {
   "cell_type": "code",
   "execution_count": 3,
   "metadata": {},
   "outputs": [
    {
     "name": "stdout",
     "output_type": "stream",
     "text": [
      "['quick', 'brown', 'fox', 'jumps', 'lazy', 'dog']\n"
     ]
    }
   ],
   "source": [
    "def tokenize(string):\n",
    "    if isinstance(string, basestring):\n",
    "        return [x for x in simple_tokenize(string) if x not in stopwords]\n",
    "    else:\n",
    "        return []\n",
    "\n",
    "\n",
    "print tokenize(quickbrownfox) # Should give ['quick', 'brown', ... ]"
   ]
  },
  {
   "cell_type": "markdown",
   "metadata": {},
   "source": [
    "**c**. Now let's tokenize the two small data sets.\n",
    "For each one build a dictionary of tokens, i.e., a dictionary where the record IDs are the keys, and the output of `tokenize` is the values.\n",
    "How many tokens, total, are there in the two data sets?\n",
    "Which Amazon record has the biggest number of tokens?"
   ]
  },
  {
   "cell_type": "code",
   "execution_count": 4,
   "metadata": {},
   "outputs": [
    {
     "name": "stdout",
     "output_type": "stream",
     "text": [
      "There are 22914 tokens in the combined data sets\nThe Amazon record with ID \"b000o24l3q\" has the most tokens\n"
     ]
    }
   ],
   "source": [
    "amazon_small_dict = amazon_small_pd.to_dict('records')\n",
    "google_small_dict = google_small_pd.to_dict('records')\n",
    "\n",
    "def tokenize_dict_list (dataList, attributes):\n",
    "    # type: (object, object) -> object\n",
    "    tmp_obj = {}\n",
    "    for tuple in dataList:\n",
    "        combined_result = []\n",
    "        for attr in attributes:\n",
    "            combined_result += tokenize(tuple[attr]) \n",
    "        tmp_obj[tuple['id']] = combined_result\n",
    "    \n",
    "    return tmp_obj\n",
    "\n",
    "\n",
    "amazon_rec2tok = tokenize_dict_list(amazon_small_dict, ['title', 'description', 'manufacturer', 'price'])\n",
    "google_rec2tok = tokenize_dict_list(google_small_dict, ['name', 'description', 'manufacturer', 'price'])\n",
    "\n",
    "def find_total_tokens(arrOfObj):\n",
    "    all_tokens = []\n",
    "    for single_set in arrOfObj:\n",
    "        for key, value in single_set.items():\n",
    "            all_tokens += value\n",
    "    return all_tokens\n",
    "                \n",
    "\n",
    "def find_biggest_record (tokenDict):\n",
    "    tmp_record_obj = {}\n",
    "    \n",
    "    for key, value in tokenDict.items():\n",
    "        tmp_record_obj[key] = len(value)\n",
    "    \n",
    "    return max(tmp_record_obj, key=tmp_record_obj.get)\n",
    "\n",
    "# print amazon_rec2tok['b000hlt57q']\n",
    "# print google_rec2tok['http://www.google.com/base/feeds/snippets/11448761432933644608']\n",
    "\n",
    "total_tokens = len(find_total_tokens([amazon_rec2tok, google_rec2tok]))\n",
    "print 'There are %s tokens in the combined data sets' % total_tokens\n",
    "\n",
    "biggest_record = find_biggest_record(amazon_rec2tok)\n",
    "print 'The Amazon record with ID \"%s\" has the most tokens' % biggest_record"
   ]
  },
  {
   "cell_type": "markdown",
   "metadata": {},
   "source": [
    "### 1.2 Weighted Bag-of-Words: TF-IDF\n",
    "\n",
    "Bag-of-words comparisons are not very good when all tokens are treated the same: some tokens are more important than others.\n",
    "Weights give us a way to specify which tokens to favor.\n",
    "With weights, when we compare documents, instead of counting common tokens, we sum up the weights of common tokens.\n",
    "\n",
    "A good heuristic for assigning weights is called \"Term-Frequency/Inverse-Document-Frequency,\" or TF-IDF for short.\n",
    "\n",
    "#### TF\n",
    "\n",
    "TF rewards tokens that appear many times in the same document.\n",
    "It is computed as the frequency of a token in a document, that is, if document `d` contains 100 tokens and token `t` appears in `d` 5 times, then the TF weight of `t` in `d` is `5/100 = 1/20`.\n",
    "The intuition for TF is that if a word occurs often in a document, then it is more important to the meaning of the document.\n",
    "\n",
    "#### IDF\n",
    "\n",
    "IDF rewards tokens that are rare overall in a data set.\n",
    "The intuition is that it is more significant if two documents share a rare word than a common one.\n",
    "IDF weight for a token, *t*, in a set of documents, *U*, is computed as follows: \n",
    "\n",
    "* Let *N* be the total number of documents in *U*\n",
    "* Find *n(t)*, the number of documents in *U* that contain *t*\n",
    "* Then *IDF(t) = N/n(t)*.\n",
    "\n",
    "Note that *n(t)/N* is the frequency of *t* in *U*, and *N/n* is the inverse frequency.\n",
    "\n",
    "> **Note on terminology**: Sometimes token weights depend on the document the token belongs to, that is, the same token may have a different weight when it's found in different documents.  We call these weights `local` weights.  TF is an example of a local weight, because it depends on the length of the source.  On the other hand, some token weights only depend on the token, and are the same everywhere that token is found.  We call these weights `global`, and IDF is one such weight.\n",
    "\n",
    "#### TF-IDF\n",
    "\n",
    "Finally, to bring it all together, the total TF-IDF weight for a token in a document is the product of its TF and IDF weights."
   ]
  },
  {
   "cell_type": "markdown",
   "metadata": {},
   "source": [
    "#### Exercise 2\n",
    "\n",
    "**a**. Implement `tf(tokens)` that takes a list of tokens belonging to a single document and returns a dictionary mapping tokens to TF weights.\n"
   ]
  },
  {
   "cell_type": "code",
   "execution_count": 5,
   "metadata": {},
   "outputs": [
    {
     "name": "stdout",
     "output_type": "stream",
     "text": [
      "{'brown': 0.16666666666666666, 'lazy': 0.16666666666666666, 'jumps': 0.16666666666666666, 'fox': 0.16666666666666666, 'dog': 0.16666666666666666, 'quick': 0.16666666666666666}\n"
     ]
    }
   ],
   "source": [
    "import collections\n",
    "\n",
    "\n",
    "def probabilty(value, total):\n",
    "    return float(value) / total\n",
    "\n",
    "\n",
    "def tf(tokens):\n",
    "    length_of_list = len(tokens)\n",
    "    freq_of_tokens = dict(collections.Counter(tokens))\n",
    "    \n",
    "    return {k: probabilty(v, length_of_list) for k, v in freq_of_tokens.items()}\n",
    "\n",
    "\n",
    "print tf(tokenize(quickbrownfox))  # Should give { 'quick': 0.1666 ... }"
   ]
  },
  {
   "cell_type": "markdown",
   "metadata": {},
   "source": [
    "**b**. Implement `find_idfs` that assigns an IDF weight to every unique token in a collection of data called `corpus`.  You may structure `corpus` however you want, but `find_idfs` should return a dictionary mapping tokens to weights.  Use `find_idfs` to compute IDF weights for all tokens in the combined small data sets.  How many unique tokens are there?"
   ]
  },
  {
   "cell_type": "code",
   "execution_count": 6,
   "metadata": {},
   "outputs": [
    {
     "name": "stdout",
     "output_type": "stream",
     "text": [
      "There are 4866 unique tokens in the small data sets.\n"
     ]
    }
   ],
   "source": [
    "# Assuming Document refers to a single item / product\n",
    "\n",
    "def merge_dicts(dict_args):\n",
    "    \"\"\"\n",
    "    Given any number of dicts, shallow copy and merge into a new dict,\n",
    "    precedence goes to key value pairs in latter dicts.\n",
    "    \"\"\"\n",
    "    result = {}\n",
    "    for dictionary in dict_args:\n",
    "        result.update(dictionary)\n",
    "    return result\n",
    "\n",
    "\n",
    "def to_unique_tokens_dict(super_dict):\n",
    "    return {k: list(set(v)) for k, v in super_dict.items()}\n",
    "\n",
    "\n",
    "def combine_all_unique_tokens(super_dict):\n",
    "    all_tokens = []\n",
    "    for key, value in super_dict.items():\n",
    "            all_tokens += list(set(value))  # Unique values are extracted into the pile\n",
    "    \n",
    "    return all_tokens\n",
    "\n",
    "\n",
    "def find_idfs(corpus):\n",
    "    combined_idfs = {}\n",
    "    \n",
    "    combined_collection = merge_dicts(corpus)\n",
    "    \n",
    "    combined_collection_length = len(combined_collection)\n",
    "    \n",
    "    unique_tokens_dict = to_unique_tokens_dict(combined_collection)\n",
    "    \n",
    "    super_token_list = combine_all_unique_tokens(unique_tokens_dict)\n",
    "    \n",
    "    all_unique_tokens = list(set(super_token_list))\n",
    "    \n",
    "    for token in all_unique_tokens:\n",
    "        combined_idfs[token] = float(combined_collection_length) / super_token_list.count(token)\n",
    "    \n",
    "    return combined_idfs\n",
    "\n",
    "\n",
    "idfs_small = find_idfs([amazon_rec2tok, google_rec2tok])\n",
    "\n",
    "unique_tokens = len(idfs_small)\n",
    "\n",
    "print \"There are %s unique tokens in the small data sets.\" % unique_tokens\n"
   ]
  },
  {
   "cell_type": "markdown",
   "metadata": {},
   "source": [
    "**c**. What are the 10 tokens with the smallest IDF in the combined small data set?  Do you think they are useful for entity resolution?  Why or why not?"
   ]
  },
  {
   "cell_type": "code",
   "execution_count": 7,
   "metadata": {},
   "outputs": [
    {
     "name": "stdout",
     "output_type": "stream",
     "text": [
      "[('software', 4.25531914893617), ('9', 6.557377049180328), ('new', 6.896551724137931), ('features', 6.896551724137931), ('use', 7.017543859649122), ('complete', 7.2727272727272725), ('easy', 7.6923076923076925), ('1', 8.333333333333334), ('cd', 8.333333333333334), ('system', 8.333333333333334)]\n"
     ]
    }
   ],
   "source": [
    "import operator\n",
    "\n",
    "sorted_idfs_small = sorted(idfs_small.items(), key=operator.itemgetter(1))\n",
    "\n",
    "small_idf_tokens = sorted_idfs_small[:10]\n",
    "\n",
    "print small_idf_tokens"
   ]
  },
  {
   "cell_type": "markdown",
   "metadata": {},
   "source": [
    "> Low idf tokens indicate that they are found commonly across multiple documents, and hence have lower importance. They may help out in building a stop word dictionary which can filter these words out before we start processing our results. "
   ]
  },
  {
   "cell_type": "markdown",
   "metadata": {},
   "source": [
    "**d**. Plot a histogram of IDF values.  Be sure to use appropriate scaling and bucketing for the data.  What conclusions can you draw from the distribution of weights?"
   ]
  },
  {
   "cell_type": "code",
   "execution_count": 8,
   "metadata": {},
   "outputs": [
    {
     "data": {
      "text/plain": [
       "<matplotlib.text.Text at 0x7f9fd2d7a090>"
      ]
     },
     "execution_count": 8,
     "metadata": {},
     "output_type": "execute_result"
    },
    {
     "data": {
      "image/png": "[encoded data removed]",
      "text/plain": [
       "<matplotlib.figure.Figure at 0x7fa004876350>"
      ]
     },
     "metadata": {},
     "output_type": "display_data"
    }
   ],
   "source": [
    "import pylab\n",
    "\n",
    "%matplotlib inline\n",
    "\n",
    "small_token_labels, small_token_values = zip(*sorted_idfs_small)\n",
    "\n",
    "small_token_labels = [x for x in small_token_labels]\n",
    "small_token_values = [y for y in small_token_values]\n",
    "\n",
    "pylab.hist(small_token_values, bins=25)\n",
    "pylab.xlabel('IDF Value')\n",
    "pylab.ylabel('Frequency')"
   ]
  },
  {
   "cell_type": "markdown",
   "metadata": {},
   "source": [
    "> As the value of IDF increases, so does it's chance of occuring increases. Hence there are more rare words in a document, rather than very common ones occuring."
   ]
  },
  {
   "cell_type": "markdown",
   "metadata": {},
   "source": [
    "**e**. Use `tf` to implement `tfidf(tokens, idfs)` that takes a list of tokens from a document and a dictionary of idf weights and returns a dictionary mapping tokens to total TF-IDF weight.  Use `tfidf` to compute the weights of Amazon product record 'b000hkgj8k'."
   ]
  },
  {
   "cell_type": "code",
   "execution_count": 10,
   "metadata": {},
   "outputs": [
    {
     "name": "stdout",
     "output_type": "stream",
     "text": [
      "Amazon record 'b000hkgj8k' has tokens and weights:\n{'autocad': 33.33333333333333, 'autodesk': 8.333333333333332, 'courseware': 66.66666666666666, 'psg': 33.33333333333333, '2007': 3.5087719298245617, 'customizing': 16.666666666666664, 'interface': 3.0303030303030303}\n"
     ]
    }
   ],
   "source": [
    "def tfidf(tokens, idfs):\n",
    "    tempObj = {}\n",
    "    \n",
    "    tf_value = tf(tokens)\n",
    "    \n",
    "    for token, value in tf_value.items():\n",
    "        tempObj[token] = value * idfs[token]\n",
    "        \n",
    "    return tempObj\n",
    "    \n",
    "\n",
    "rec_b000hkgj8k_weights = tfidf(amazon_rec2tok['b000hkgj8k'], idfs_small)\n",
    "\n",
    "print \"Amazon record 'b000hkgj8k' has tokens and weights:\\n%s\" % rec_b000hkgj8k_weights"
   ]
  },
  {
   "cell_type": "markdown",
   "metadata": {},
   "source": [
    "\n",
    "### 1.3 Cosine Similarity\n",
    "\n",
    "Now we are ready to do text comparisons in a formal way.\n",
    "The metric of string distance we will use is called **cosine similarity**.\n",
    "We will treat each document as a vector in some high dimensional space.\n",
    "Then, to compare two documents we compute the cosine of the angle between their two document vectors.\n",
    "This is easier than it sounds.\n",
    "\n",
    "The first question to answer is how do we represent documents as vectors?\n",
    "The answer is familiar: bag-of-words!\n",
    "We treat each unique token as a dimension, and treat token weights as magnitudes in their respective token dimensions.\n",
    "For example, suppose we use simple counts as weights, and we want to interpret the string \"Hello, world!  Goodbye, world!\" as a vector.\n",
    "Then in the \"hello\" and \"goodbye\" dimensions the vector has value 1, in the \"world\" dimension it has value 2, and it is zero in all other dimensions.\n",
    "\n",
    "Next question is: given two vectors how do we find the cosine of the angle between them?\n",
    "Recall the formula for the dot product of two vectors:\n",
    "\n",
    "$$a \\cdot b = \\| a \\| \\| b \\| \\cos \\theta$$\n",
    "\n",
    "Here $a \\cdot b = \\sum_{i=1}^n a_i b_i$ is the ordinary dot product of two vectors, and $\\|a\\| = \\sqrt{ \\sum_{i=1}^n a_i^2 }$ is the norm of $a$.\n",
    "\n",
    "We can rearrange terms and solve for the cosine to find it is simply the normalized dot product of the vectors.\n",
    "With our vector model, the dot product and norm computations are simple functions of the bag-of-words document representations, so we now have a formal way to compute similarity:\n",
    "\n",
    "$$similarity = \\cos \\theta = \\frac{a \\cdot b}{\\|a\\| \\|b\\|} = \\frac{\\sum_{i=1}^n a_i b_i}{\\sqrt{\\sum_{i=1}^n a_i^2} \\sqrt{\\sum_{i=1}^n b_i^2}}$$\n",
    "\n",
    "Setting aside the algebra, the geometric interpretation is more intuitive.\n",
    "The angle between two document vectors is small if they share many tokens in common, because they are pointing in roughly the same direction.\n",
    "Then, the cosine of the angle will be large.\n",
    "Otherwise, if the angle is large (and they have few words in common), the cosine is small.\n",
    "So the cosine scales proportionally with our intuitive sense of similarity."
   ]
  },
  {
   "cell_type": "markdown",
   "metadata": {},
   "source": [
    "\n",
    "#### Exercise 3\n",
    "\n",
    "**a**. Implement `cosine_similarity(string1, string2, idfs)` that takes two strings and computes their cosine similarity in the context of some global IDF weights.\n",
    "Use `tokenize`, `tfidf`, and the IDF weights from exercise **2b** for extracting tokens and assigning them weights.\n"
   ]
  },
  {
   "cell_type": "code",
   "execution_count": 12,
   "metadata": {},
   "outputs": [
    {
     "name": "stdout",
     "output_type": "stream",
     "text": [
      "102 6.16441400297\n0.0577243382163\n"
     ]
    }
   ],
   "source": [
    "import math\n",
    "\n",
    "# Optional utility\n",
    "def dotprod(a, b):\n",
    "    dot_product_result = 0\n",
    "    \n",
    "    for token, value in a.items():\n",
    "        dot_product_result += a[token] * b[token]\n",
    "    \n",
    "    return dot_product_result\n",
    "\n",
    "# Optional utility\n",
    "def norm(a):\n",
    "    norm_result = 0\n",
    "    \n",
    "    for token, value in a.items():\n",
    "        norm_result += value * value\n",
    "    \n",
    "    return math.sqrt(norm_result)\n",
    "\n",
    "def standardize_data_vecs(dict1, dict2):\n",
    "    dict1_tokens = dict1.keys()\n",
    "    dict2_tokens = dict2.keys()\n",
    "    \n",
    "    new_dict1 = dict1.copy()\n",
    "    new_dict2 = dict2.copy()\n",
    "    \n",
    "    total_dict_tokens = list(set(dict1_tokens + dict2_tokens))\n",
    "    \n",
    "    for token in total_dict_tokens:\n",
    "        if token in dict1 and token in dict2:\n",
    "            new_dict1[token] = dict1[token]\n",
    "            new_dict2[token] = dict2[token]\n",
    "        elif token not in dict1:\n",
    "            new_dict1[token] = 0\n",
    "        elif token not in dict2:\n",
    "            new_dict2[token] = 0\n",
    "            \n",
    "    return [new_dict1, new_dict2]\n",
    "\n",
    "# Optional freebie\n",
    "def cossim(a, b):\n",
    "    stand_a, stand_b = standardize_data_vecs(a, b)\n",
    "    \n",
    "    return dotprod(stand_a, stand_b) / norm(stand_a) / norm(stand_b)\n",
    "\n",
    "test_vec1 = {'foo': 2, 'bar': 3, 'baz': 5 }\n",
    "test_vec2 = {'foo': 1, 'bar': 0, 'baz': 20 }\n",
    "print dotprod(test_vec1, test_vec2), norm(test_vec1) # Should be 102 6.16441400297\n",
    "\n",
    "def cosine_similarity(string1, string2, idfs):\n",
    "    string1_tfidf = tfidf(tokenize(string1), idfs)\n",
    "    string2_tfidf = tfidf(tokenize(string2), idfs)\n",
    "    \n",
    "    return cossim(string1_tfidf, string2_tfidf)\n",
    "    \n",
    "\n",
    "print cosine_similarity(\"Adobe Photoshop\",\n",
    "                        \"Adobe Illustrator\", \n",
    "                        idfs_small) # Should be 0.0577243382163"
   ]
  },
  {
   "cell_type": "markdown",
   "metadata": {},
   "source": [
    "**b**. Now we can finally do some entity resolution!\n",
    "For every product record in the small Google data set, use `cosine_similarity` to compute its similarity to every record in the small Amazon set.  Build a dictionary mapping `(Amazon Id, Google Id)` tuples to similarity scores between 0 and 1.\n",
    "What is the similarity between Amazon record 'b000o24l3q' and Google record `http://www.google.com/base/feeds/snippets/17242822440574356561`."
   ]
  },
  {
   "cell_type": "code",
   "execution_count": 13,
   "metadata": {},
   "outputs": [
    {
     "name": "stdout",
     "output_type": "stream",
     "text": [
      "Requested similarity is 0.000301907198618.\n"
     ]
    }
   ],
   "source": [
    "def adv_cosine_similarity(token_list_1, token_list_2, idfs):\n",
    "    list1_tfidf = tfidf(token_list_1, idfs)\n",
    "    list2_tfidf = tfidf(token_list_2, idfs)\n",
    "    \n",
    "    return cossim(list1_tfidf, list2_tfidf)\n",
    "\n",
    "\n",
    "def build_similarity_tuple_dict(google_set, amazon_set):\n",
    "    result = {}\n",
    "     \n",
    "    for google_key, google_value in google_set.items():\n",
    "        for amazon_key, amazon_value in amazon_set.items():\n",
    "            result[(amazon_key, google_key)] = adv_cosine_similarity(amazon_value, google_value, idfs_small)\n",
    "    \n",
    "    return result\n",
    "\n",
    "\n",
    "similarities = build_similarity_tuple_dict(google_rec2tok, amazon_rec2tok)\n",
    "\n",
    "\n",
    "print 'Requested similarity is %s.' % similarities[('b000o24l3q',\n",
    "  'http://www.google.com/base/feeds/snippets/17242822440574356561')]"
   ]
  },
  {
   "cell_type": "markdown",
   "metadata": {},
   "source": [
    "**c**.  Use the \"gold standard\" data (loaded from the included file) to answer the following questions.  How many true duplicate pairs are there in the small data set?  What is the average similarity score for true duplicates?  What about for non-duplicates?  Based on this, is cosine similarity doing a good job, qualitatively speaking, of identifying duplicates?  Why or why not?"
   ]
  },
  {
   "cell_type": "code",
   "execution_count": 15,
   "metadata": {},
   "outputs": [
    {
     "name": "stdout",
     "output_type": "stream",
     "text": [
      "There are 146 true duplicates.\nThe average similarity of true duplicates is 0.250374279678.\nAnd for non duplicates, it is 0.00113942401914.\n"
     ]
    }
   ],
   "source": [
    "gold_standard = amazon_google_perf_map_pd.to_dict('records')\n",
    "true_dups_set = {}\n",
    "non_dups_set = {}\n",
    "\n",
    "for record in gold_standard:\n",
    "    if (record.get('idAmazon'), record.get('idGoogleBase')) in similarities:\n",
    "        true_dups_set[(record.get('idAmazon'), record.get('idGoogleBase'))] = similarities[(record.get('idAmazon'), record.get('idGoogleBase'))]\n",
    "\n",
    "for key, value in similarities.iteritems():\n",
    "    if key not in true_dups_set:\n",
    "        non_dups_set[key] = value\n",
    "\n",
    "true_dups = len(true_dups_set)\n",
    "avg_sim_dups = sum(true_dups_set.values()) / true_dups\n",
    "avg_sim_non = sum(non_dups_set.values()) / len(non_dups_set)\n",
    "\n",
    "print \"There are %s true duplicates.\" % true_dups\n",
    "print \"The average similarity of true duplicates is %s.\" % avg_sim_dups\n",
    "print \"And for non duplicates, it is %s.\" % avg_sim_non\n"
   ]
  },
  {
   "cell_type": "markdown",
   "metadata": {},
   "source": [
    "> Based on the observed values of averaging the cosine similarity between duplicates and non duplicates. Duplicates produce a relatively much higher cosine similarity value, and so we can identify similar items. Since it doesn't take into account the magnitude of the vectors, itis fairly reasonable to consider it being effective in judging the similarity between two strings. "
   ]
  },
  {
   "cell_type": "markdown",
   "metadata": {},
   "source": [
    "## Part 2: Scalable ER\n",
    "\n",
    "In the previous section we built a text similarity function and used it for small scale entity resolution.  Our implementation is limited by its quadratic run time complexity, and is not practical for even modestly sized data sets.  In this section we will implement a more scalable algorithm and use it to do entity resolution on the full data set.\n",
    "\n",
    "### Inverted Indices\n",
    "\n",
    "To improve our ER algorithm from **Part 1**, we should begin by analyzing its running time.\n",
    "In particular, the algorithm above is quadratic in two ways.\n",
    "First, we did a lot of redundant computation of tokens and weights, since each record was reprocessed every time it was compared.\n",
    "Second, we made qudratically many token comparisons between records.\n",
    "\n",
    "The first source of quadratic overhead can be eliminated with precomputation and look-up tables, but the second source is a little more tricky.\n",
    "In the worst case, every token in every record in one data set exists in every record in the other data set, and therefore every token makes a nonzero contribution to the cosine similarity.\n",
    "In this case, token comparison is unavoidably quadratic.\n",
    "\n",
    "But in reality most records have nothing (or very little) in common.\n",
    "Moreover, it is typical for a record in one data set to have at most one duplicate record in the other data set (this is the case assuming each data set has been de-duplicated against itself).\n",
    "In this case, the output is linear in the size of the input and we can hope to achieve linear running time.\n",
    "\n",
    "An **inverted index** is a data structure that will allow us to avoid making quadratically many token comparisons.  It maps each token in the data set to the list of documents that contain the token.  So, instead of comparing, record by record, each token to every other token to see if they match, we will use inverted indices to *look up* records that match on a particular token.\n",
    "\n",
    "> **Note on terminology**: In text search, a *forward* index maps documents in a data set to the tokens they contain.  An *inverted* index supports the inverse mapping.\n"
   ]
  },
  {
   "cell_type": "markdown",
   "metadata": {},
   "source": [
    "#### Exercise 4\n",
    "\n",
    "> **Note**: For this section, use the complete Google and Amazon data sets, not the samples\n",
    "\n",
    "> **Pandas note**: If you use DataFrames for the mapping tables, make sure you index them correctly for efficient key look ups\n",
    "\n",
    "**a**. To address the overhead of recomputing tokens and token-weights, build a dictionary for each data set that maps record IDs to TF-IDF weighted token vectors (the vectors themselves should be dictionaries).  You will need to re-use code from above to recompute IDF weights for the complete combined data set."
   ]
  },
  {
   "cell_type": "code",
   "execution_count": 16,
   "metadata": {},
   "outputs": [
    {
     "name": "stdout",
     "output_type": "stream",
     "text": [
      "17599\n"
     ]
    }
   ],
   "source": [
    "amazon_dict = amazon_pd.to_dict('records')\n",
    "google_dict = google_pd.to_dict('records')\n",
    "\n",
    "amazon_rec2tok_full = tokenize_dict_list(amazon_dict, ['title', 'description', 'manufacturer', 'price'])\n",
    "google_rec2tok_full = tokenize_dict_list(google_dict, ['name', 'description', 'manufacturer', 'price'])\n",
    "\n",
    "# TODO Recompute IDFs for full data set\n",
    "idfs_full = find_idfs([amazon_rec2tok_full, google_rec2tok_full])\n",
    "\n",
    "print len(idfs_full)"
   ]
  },
  {
   "cell_type": "code",
   "execution_count": 17,
   "metadata": {},
   "outputs": [],
   "source": [
    "def generate_dict_weights(dict_data, idfs):\n",
    "    result = {}\n",
    "    \n",
    "    for data_id, tokens in dict_data.items():\n",
    "        result[data_id] = tfidf(tokens, idfs)\n",
    "    \n",
    "    return result\n",
    "\n",
    "\n",
    "def generate_dict_norms(dict_weights):\n",
    "    result = {}\n",
    "    \n",
    "    for data_id, weights in dict_weights.items():\n",
    "        result[data_id] = norm(weights)\n",
    "    \n",
    "    return result\n",
    "\n",
    "\n",
    "# TODO Pre-compute TF-IDF weights.  Build mappings from record ID weight vector.\n",
    "google_weights = generate_dict_weights(google_rec2tok_full, idfs_full)\n",
    "amazon_weights = generate_dict_weights(amazon_rec2tok_full, idfs_full)\n",
    "\n",
    "# TODO Pre-compute norms.  Build mappings from record ID to norm of the weight vector.\n",
    "google_norms = generate_dict_norms(google_weights)\n",
    "amazon_norms = generate_dict_norms(amazon_weights)"
   ]
  },
  {
   "cell_type": "markdown",
   "metadata": {},
   "source": [
    "**b**. Build inverted indices of both data sources."
   ]
  },
  {
   "cell_type": "code",
   "execution_count": 18,
   "metadata": {},
   "outputs": [],
   "source": [
    "# TODO Implement this. Should return a mapping from token to list-of-record-IDs\n",
    "def find_unique_tokens(data_dict):\n",
    "    result = []\n",
    "    \n",
    "    for record in data_dict.values():\n",
    "        result += record.keys()\n",
    "    \n",
    "    return list(set(result))\n",
    "\n",
    "\n",
    "def invert_index(forward_index):\n",
    "    result = {}\n",
    "    \n",
    "    for token in find_unique_tokens(forward_index):\n",
    "        result[token] = []\n",
    "        for data_id, weights in forward_index.items():\n",
    "            if token in weights:\n",
    "                result[token].append(data_id)\n",
    "    \n",
    "    return result\n",
    "\n",
    "\n",
    "amazon_inv = invert_index(amazon_weights)\n",
    "google_inv = invert_index(google_weights)"
   ]
  },
  {
   "cell_type": "markdown",
   "metadata": {},
   "source": [
    "**c**. We are now in position to efficiently perform ER on the full data sets.\n",
    "Implement the following algorithm to build a dictionary that maps a pair of records (as a tuple) to a list of tokens they share in common:\n",
    "Iterate over tokens of one data set, and for each token, if the token appears in the other data set, use the inverted indices to find all pairs of records (one from either set) that contain the token.  Add these pairs to the output."
   ]
  },
  {
   "cell_type": "code",
   "execution_count": 19,
   "metadata": {
    "collapsed": false
   },
   "outputs": [
    {
     "name": "stdout",
     "output_type": "stream",
     "text": [
      "2469269\n"
     ]
    }
   ],
   "source": [
    "import itertools\n",
    "\n",
    "def find_common_tokens(dict_1, dict_2, all_known_tokens):\n",
    "    result = {}\n",
    "    temp_count = 0\n",
    "    for token in all_known_tokens:\n",
    "        if token in dict_1 and token in dict_2:\n",
    "            for dict_1_id in dict_1[token]:\n",
    "                for dict_2_id in dict_2[token]:\n",
    "                    if (dict_1_id, dict_2_id) in result:\n",
    "                        result[(dict_1_id, dict_2_id)].append(token)\n",
    "                    else:\n",
    "                        result[(dict_1_id, dict_2_id)] = []\n",
    "                        result[(dict_1_id, dict_2_id)].append(token)\n",
    "                        \n",
    "    return result\n",
    "\n",
    "\n",
    "# TODO Implement algorithm to compute this:\n",
    "common_tokens = find_common_tokens(amazon_inv, google_inv, idfs_full.keys()) # Should map a record ID pair to a list of common tokens\n",
    "\n",
    "print len(common_tokens) # Should be 2882143"
   ]
  },
  {
   "cell_type": "markdown",
   "metadata": {},
   "source": [
    "**d**. Use the data structures from parts **a** and **c** to build a dictionary to map record pairs to cosine similarity scores."
   ]
  },
  {
   "cell_type": "code",
   "execution_count": 32,
   "metadata": {},
   "outputs": [
    {
     "name": "stdout",
     "output_type": "stream",
     "text": [
      "1927769\n"
     ]
    }
   ],
   "source": [
    "# TODO Implement this. Should take two record IDs and a list of common\n",
    "# tokens and return the cosine similarity of the two records.\n",
    "# Use results from part *a* for fast look ups.\n",
    "def fast_cosine_similarity(a_rec, g_rec, tokens):\n",
    "    a_rec_weight = amazon_weights[a_rec]\n",
    "    g_rec_weight = google_weights[g_rec]\n",
    "    \n",
    "    a_norm = amazon_norms[a_rec]\n",
    "    g_norm = google_norms[g_rec]\n",
    "    \n",
    "    calc_dot_prod = 0\n",
    "    for token in tokens:\n",
    "        calc_dot_prod += a_rec_weight[token] * g_rec_weight[token]\n",
    "    \n",
    "    return calc_dot_prod / a_norm / g_norm\n",
    "\n",
    "\n",
    "def build_similarity_fast(amazon_set, google_set):\n",
    "    result = {}\n",
    "\n",
    "    for google_key, google_value in google_set.items():\n",
    "        for amazon_key, amazon_value in amazon_set.items():\n",
    "            if (amazon_key, google_key) in common_tokens:\n",
    "                token_set = common_tokens[(amazon_key, google_key)]\n",
    "            else:\n",
    "                token_set = []\n",
    "                \n",
    "            result[(amazon_key, google_key)] = fast_cosine_similarity(amazon_key, \n",
    "                                                                     google_key, \n",
    "                                                                     token_set)\n",
    "            \n",
    "    return result\n",
    "\n",
    "# TODO Compute similarities (use fast_cosine_similarity)\n",
    "sims = build_similarity_fast(amazon_rec2tok_full, google_rec2tok_full) # Should map record-ID-pairs to cosine similarity score"
   ]
  },
  {
   "cell_type": "markdown",
   "metadata": {},
   "source": [
    "\n",
    "### Analysis\n",
    "\n",
    "Now we have an authoritative list of record-pair similarities, but we need a way to use those similarities to decide if two records are duplicates or not.\n",
    "The simplest approach is to pick a **threshold**.\n",
    "Pairs whose similarity is above the threshold are declared duplicates, and pairs below the threshold are declared distinct.\n",
    "\n",
    "To decide where to set the threshold we need to understand what kind of errors result at different levels.\n",
    "If we set the threshold too low, we get more **false positives**, that is, record-pairs we say are duplicates that in reality are not.\n",
    "If we set the threshold too high, we get more **false negatives**, that is, record-pairs that really are duplicates but that we miss.\n",
    "\n",
    "ER algorithms are evaluated by the common metrics of information retrieval and search called **precision** and **recall**.\n",
    "Precision asks of all the record-pairs marked duplicates, what fraction are true duplicates?\n",
    "Recall asks of all the true duplicates in the data, what fraction did we successfully find?\n",
    "As with false positives and false negatives, there is a trade-off between precision and recall.\n",
    "A third metric, called **F-measure**, takes the harmonic mean of precision and recall to measure overall goodness in a single value.:\n",
    "\n",
    "$$Fmeasure = 2 \\frac{precision * recall}{precision + recall}$$\n"
   ]
  },
  {
   "cell_type": "markdown",
   "metadata": {},
   "source": [
    "#### Exercise 5\n",
    "\n",
    "> **Note**: For this exercise, use the \"gold standard\" mapping from the included file to look up true duplicates, and the results of exercise 4.\n",
    "\n",
    "**a**. Implement functions to count true-positives (true duplicates above the threshold), and false-positives and -negatives.  HINT: To make your functions efficient, you should bin your counts by similarity range."
   ]
  },
  {
   "cell_type": "code",
   "execution_count": null,
   "metadata": {},
   "outputs": [],
   "source": [
    "# Look up all similarity scores for true duplicates\n",
    "true_dup_sims = [] # TODO Build this\n",
    "\n",
    "# TODO Just compute true_dup_sim above\n",
    "def truepos(threshold):\n",
    "    return len(true_dup_sims) - falseneg(threshold)\n",
    "\n",
    "# Pre-bin counts of false positives by threshold range\n",
    "nthresholds = 100\n",
    "def bin(similarity):\n",
    "    return int(similarity * nthresholds)\n",
    "\n",
    "fp_counts = {} # TODO Build this.  Should map bin number to count of false-positives\n",
    "\n",
    "# TODO Implement this\n",
    "def falsepos(threshold):\n",
    "    pass\n",
    "\n",
    "# TODO Implement this\n",
    "def falseneg(threshold):\n",
    "    pass\n"
   ]
  },
  {
   "cell_type": "markdown",
   "metadata": {},
   "source": [
    "**b**. What is the relationship between false-positives and -negatives (and true-positives and -negatives) on the one hand and precision and recall on the other?\n",
    "Use the functions from part **a** to implement functions to compute precision, recall, F-measure as a function of threshold value."
   ]
  },
  {
   "cell_type": "code",
   "execution_count": null,
   "metadata": {},
   "outputs": [],
   "source": [
    "# TODO Implement this (returns a float)\n",
    "def precision(threshold):\n",
    "    pass\n",
    "\n",
    "# TODO Implement this (returns a float)\n",
    "def recall(threshold):\n",
    "    pass\n",
    "\n",
    "# TODO Implement this (returns a float)\n",
    "def fmeasure(threshold):\n",
    "    pass"
   ]
  },
  {
   "cell_type": "markdown",
   "metadata": {},
   "source": [
    "**c**. Make line plots of precision, recall, and F-measure as a function of threshold value, for thresholds between 0.0 and 1.0.  You can change `nthresholds` (above in part **a**) to change threshold values to plot."
   ]
  },
  {
   "cell_type": "code",
   "execution_count": null,
   "metadata": {},
   "outputs": [],
   "source": [
    "# For the x-axis\n",
    "thresholds = [float(n) / nthresholds for n in range(0, nthresholds)]\n",
    "\n",
    "# TODO Make a plot.  HINT: Use pylab.plot().  Don't forget labels."
   ]
  },
  {
   "cell_type": "markdown",
   "metadata": {},
   "source": [
    "**d**. Using the plot, pick the optimal threshold value and argue for why it is optimal.\n",
    "If false-positives are considered much worse than false-negatives, how does that change your answer?\n"
   ]
  },
  {
   "cell_type": "markdown",
   "metadata": {},
   "source": [
    "> TODO Answer questions"
   ]
  },
  {
   "cell_type": "markdown",
   "metadata": {},
   "source": [
    "**e**.  State-of-the-art tools can get an F-measure of about 60% on this data set.\n",
    "In this assignment we expect to get an F-measure closer to 40%.\n",
    "Look at some examples of errors (both false-positives and -negatives) and think about what went wrong.\n",
    "What are some ways we might improve our simple classifier?\n",
    "Back up your ideas with examples as much as possible."
   ]
  },
  {
   "cell_type": "markdown",
   "metadata": {},
   "source": [
    "> TODO Answer questions"
   ]
  }
 ],
 "metadata": {
  "kernelspec": {
   "display_name": "Python 2",
   "language": "python",
   "name": "python2"
  },
  "language_info": {
   "codemirror_mode": {
    "name": "ipython",
    "version": 2
   },
   "file_extension": ".py",
   "mimetype": "text/x-python",
   "name": "python",
   "nbconvert_exporter": "python",
   "pygments_lexer": "ipython2",
   "version": "2.7.13"
  }
 },
 "nbformat": 4,
 "nbformat_minor": 1
}
