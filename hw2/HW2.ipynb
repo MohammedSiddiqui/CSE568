{
 "cells": [
  {
   "cell_type": "markdown",
   "metadata": {},
   "source": [
    "\n",
    "**Name**: *Mohammed Siddiqui*\n",
    "\n",
    "**Student ID**: *15169*\n",
    "\n",
    "Assignment 2: Introduction to Machine Learning: Clustering and Regression"
   ]
  },
  {
   "cell_type": "code",
   "execution_count": 48,
   "metadata": {
    "collapsed": true
   },
   "outputs": [],
   "source": [
    "import os\n",
    "import pandas as pd\n",
    "import numpy as np\n",
    "from sklearn.cluster import KMeans\n",
    "from sklearn.metrics import silhouette_score\n",
    "from collections import Counter\n",
    "from sklearn.decomposition import RandomizedPCA"
   ]
  },
  {
   "cell_type": "code",
   "execution_count": 2,
   "metadata": {},
   "outputs": [
    {
     "name": "stdout",
     "output_type": "stream",
     "text": [
      "Number of tags 952803\n",
      "Number of artists 17119\n"
     ]
    }
   ],
   "source": [
    "project_path = os.getcwd() + '/hw2'\n",
    "\n",
    "# DATA_PATH = project_path + '/hw2data'\n",
    "DATA_PATH = \"hw2data\"  # Make this the /path/to/the/data\n",
    "\n",
    "def parse_artists_tags(filename):\n",
    "    df = pd.read_csv(filename, sep=\"|\", names=[\"ArtistID\", \"ArtistName\", \"Tag\", \"Count\"])\n",
    "    return df\n",
    "\n",
    "def parse_user_artists_matrix(filename):\n",
    "    df = pd.read_csv(filename)\n",
    "    return df\n",
    "\n",
    "artists_tags = parse_artists_tags(DATA_PATH + \"/artists-tags.txt\")\n",
    "user_art_mat = parse_user_artists_matrix(DATA_PATH + \"/userart-mat-training.csv\")\n",
    "\n",
    "print \"Number of tags %d\" % artists_tags['Tag'].count()  # Change this line. Should be 952803\n",
    "print \"Number of artists %d\" % user_art_mat['ArtistID'].count()  # Change this line. Should be 17119"
   ]
  },
  {
   "cell_type": "markdown",
   "metadata": {},
   "source": [
    "#### Exercise 1\n",
    "\n",
    "**a**. For every artist in **artists_tags** calculate the most frequently used tag. "
   ]
  },
  {
   "cell_type": "code",
   "execution_count": 3,
   "metadata": {
    "collapsed": true
   },
   "outputs": [],
   "source": [
    "# TODO Implement this. You can change the function arguments if necessary\n",
    "# Return a data structure that contains (artist id, artist name, top tag) for every artist\n",
    "def calculate_top_tag(all_tags):\n",
    "    \n",
    "    dict_tags = {}\n",
    "    \n",
    "    for index, row in all_tags.iterrows():\n",
    "        if row['ArtistID'] not in dict_tags:\n",
    "            dict_tags[row['ArtistID']] = {'count': 0}\n",
    "    \n",
    "        isGreater = row['Count'] > dict_tags[row['ArtistID']]['count']\n",
    "        \n",
    "        selectedTag = row['Tag'] if isGreater else dict_tags[row['ArtistID']]['top_tag']\n",
    "        selectedCount = row['Count'] if isGreater else dict_tags[row['ArtistID']]['count']\n",
    "        \n",
    "        dict_tags[row['ArtistID']] = {'artist_id': row['ArtistID'], 'artist_name': row['ArtistName'], 'top_tag': selectedTag, 'count': selectedCount}\n",
    "    \n",
    "    return dict_tags\n",
    "\n",
    "top_tags = calculate_top_tag(artists_tags)"
   ]
  },
  {
   "cell_type": "code",
   "execution_count": 4,
   "metadata": {},
   "outputs": [
    {
     "name": "stdout",
     "output_type": "stream",
     "text": [
      "Top tag for Nirvana is Grunge\n"
     ]
    }
   ],
   "source": [
    "# Print the top tag for Nirvana\n",
    "# Artist ID for Nirvana is 5b11f4ce-a62d-471e-81fc-a69a8278c7da\n",
    "# Should be 'Grunge'\n",
    "print \"Top tag for Nirvana is %s\" % top_tags['5b11f4ce-a62d-471e-81fc-a69a8278c7da']['top_tag']"
   ]
  },
  {
   "cell_type": "markdown",
   "metadata": {},
   "source": [
    "**b**. To do clustering we will be using `numpy` matrices. Create a matrix from **user_art_mat** with every row in the matrix representing a single artist. The matrix will have 846 columns, one for whether each user listened to the artist."
   ]
  },
  {
   "cell_type": "code",
   "execution_count": 5,
   "metadata": {},
   "outputs": [
    {
     "name": "stdout",
     "output_type": "stream",
     "text": [
      "(17119, 846)\n"
     ]
    }
   ],
   "source": [
    "def create_user_matrix(input_data):\n",
    "    return input_data.drop('ArtistID', axis=1).as_matrix()\n",
    "\n",
    "user_np_matrix = create_user_matrix(user_art_mat)\n",
    "\n",
    "print user_np_matrix.shape # Should be (17119, 846)"
   ]
  },
  {
   "cell_type": "markdown",
   "metadata": {},
   "source": [
    "#### Exercise 2\n",
    "\n",
    "**a**. Run K-means using *5* cluster centers on the `user_np_matrix`."
   ]
  },
  {
   "cell_type": "code",
   "execution_count": 6,
   "metadata": {
    "collapsed": true
   },
   "outputs": [],
   "source": [
    "def get_kmeans_n(n, data_matrix):\n",
    "    return KMeans(n_clusters=n, n_init=1).fit(data_matrix)"
   ]
  },
  {
   "cell_type": "code",
   "execution_count": 7,
   "metadata": {},
   "outputs": [
    {
     "name": "stdout",
     "output_type": "stream",
     "text": [
      "CPU times: user 3.3 s, sys: 88 ms, total: 3.39 s\n",
      "Wall time: 1.33 s\n"
     ]
    }
   ],
   "source": [
    "%%time\n",
    "\n",
    "# Run K-means using 5 cluster centers on user_np_matrix\n",
    "kmeans_5 = get_kmeans_n(5, user_np_matrix)"
   ]
  },
  {
   "cell_type": "markdown",
   "metadata": {},
   "source": [
    "**b**. Run K-means using *25* and *50* cluster centers on the `user_np_matrix`. Also measure the time taken for both cases."
   ]
  },
  {
   "cell_type": "code",
   "execution_count": 10,
   "metadata": {},
   "outputs": [
    {
     "name": "stdout",
     "output_type": "stream",
     "text": [
      "CPU times: user 11.1 s, sys: 188 ms, total: 11.3 s\n",
      "Wall time: 3.05 s\n"
     ]
    }
   ],
   "source": [
    "%%time\n",
    "kmeans_25 = get_kmeans_n(25, user_np_matrix)"
   ]
  },
  {
   "cell_type": "code",
   "execution_count": 9,
   "metadata": {},
   "outputs": [
    {
     "name": "stdout",
     "output_type": "stream",
     "text": [
      "CPU times: user 13.1 s, sys: 248 ms, total: 13.3 s\n",
      "Wall time: 3.71 s\n"
     ]
    }
   ],
   "source": [
    "%%time\n",
    "kmeans_50 = get_kmeans_n(50, user_np_matrix)"
   ]
  },
  {
   "cell_type": "markdown",
   "metadata": {},
   "source": [
    "**d**. Of the three algorithms, which setting took the longest to run ? Why do you think this is the case ?"
   ]
  },
  {
   "cell_type": "markdown",
   "metadata": {},
   "source": [
    "> kmeans_50 took the longest time. The reason is because compared to lets say kmean_5 where we only have to work with 5 clusters in total, we have 50 which requires more computation to figure out to which cluster does a particular coordinate belong to amongst all the possible clusters. This adds on to the overall time."
   ]
  },
  {
   "cell_type": "markdown",
   "metadata": {},
   "source": [
    "**Exercise 3**"
   ]
  },
  {
   "cell_type": "markdown",
   "metadata": {},
   "source": [
    "**a**. Print inertia for all the kmeans model computed above."
   ]
  },
  {
   "cell_type": "code",
   "execution_count": 11,
   "metadata": {},
   "outputs": [
    {
     "name": "stdout",
     "output_type": "stream",
     "text": [
      "Inertia for KMeans with 5 clusters = 349848.247153 \n",
      "Inertia for KMeans with 25 clusters =  320944.544222 \n",
      "Inertia for KMeans with 50 clusters = 308914.431548 \n"
     ]
    }
   ],
   "source": [
    "print \"Inertia for KMeans with 5 clusters = %lf \" % kmeans_5.inertia_\n",
    "print \"Inertia for KMeans with 25 clusters =  %lf \" % kmeans_25.inertia_\n",
    "print \"Inertia for KMeans with 50 clusters = %lf \" % kmeans_50.inertia_"
   ]
  },
  {
   "cell_type": "markdown",
   "metadata": {},
   "source": [
    "**b**. Does KMeans run with 25 clusters have lower or greater inertia than the ones with 5 clusters ? Which algorithm is better and why ?"
   ]
  },
  {
   "cell_type": "markdown",
   "metadata": {},
   "source": [
    "> Lower inertia. Based on the inertia values here, 50 clusters produces the lowest inertia value which means related points lie closer to each other which leads to better prediction accuracy and reduced error rate."
   ]
  },
  {
   "cell_type": "markdown",
   "metadata": {},
   "source": [
    "#### Silhouette Score: \n",
    "The silhouette score measures how close various clusters created are. A higher silhouette score is better as it means that we dont have too many overlapping clusters. The silhouette score can be computed using [sklearn.metrics.silhouette_score](http://scikit-learn.org/stable/modules/generated/sklearn.metrics.silhouette_score.html#sklearn.metrics.silhouette_score) from scikit learn."
   ]
  },
  {
   "cell_type": "markdown",
   "metadata": {},
   "source": [
    "**c.** Calculate the Silhouette Score using 500 sample points for all the kmeans models."
   ]
  },
  {
   "cell_type": "code",
   "execution_count": 12,
   "metadata": {
    "collapsed": true
   },
   "outputs": [],
   "source": [
    "def get_kmeans_predict_n(n, data_matrix):\n",
    "    return KMeans(n_clusters=n, n_init=1).fit_predict(data_matrix)"
   ]
  },
  {
   "cell_type": "code",
   "execution_count": 13,
   "metadata": {
    "collapsed": true
   },
   "outputs": [],
   "source": [
    "kmeans_predict_5 = get_kmeans_predict_n(5, user_np_matrix)\n",
    "kmeans_predict_25 = get_kmeans_predict_n(25, user_np_matrix)\n",
    "kmeans_predict_50 = get_kmeans_predict_n(50, user_np_matrix)"
   ]
  },
  {
   "cell_type": "code",
   "execution_count": 14,
   "metadata": {},
   "outputs": [
    {
     "name": "stdout",
     "output_type": "stream",
     "text": [
      "Silhouette Score for KMeans with 5 clusters = 0.260278\n",
      "Silhouette Score for KMeans with 25 clusters = 0.077414 \n",
      "Silhouette Score for KMeans with 50 clusters = -0.012227 \n"
     ]
    }
   ],
   "source": [
    "# NOTE: Use 500 sample points to calculate the silhouette score\n",
    "def get_silhouette_score(data, model):\n",
    "    return silhouette_score(data, model, sample_size=500)\n",
    "\n",
    "print \"Silhouette Score for KMeans with 5 clusters = %lf\" % get_silhouette_score(user_np_matrix, kmeans_predict_5)\n",
    "print \"Silhouette Score for KMeans with 25 clusters = %lf \" % get_silhouette_score(user_np_matrix, kmeans_predict_25)\n",
    "print \"Silhouette Score for KMeans with 50 clusters = %lf \" % get_silhouette_score(user_np_matrix, kmeans_predict_50)"
   ]
  },
  {
   "cell_type": "markdown",
   "metadata": {},
   "source": [
    "**d**. How does increasing the number of clusters affect the silhouette score ?"
   ]
  },
  {
   "cell_type": "markdown",
   "metadata": {},
   "source": [
    "> Increasing the number of clusters reduces the silhouette score since we're now packing more clusters in the same sample space which reduces the distance between each clusters."
   ]
  },
  {
   "cell_type": "markdown",
   "metadata": {},
   "source": [
    "### 1.4 External Evaluation\n",
    "While internal evaluation is useful, a better method for measuring clustering quality is to do external evaluation. This might not be possible always as we may not have ground truth data available. In our application we will use `top_tags` from before as our ground truth data for external evaluation. We will first compute purity and accuracy and finally we will predict tags for our **test** dataset.\n",
    "\n",
    "#### Exercise 4\n",
    "\n",
    "**a**. As a first step we will need to **join** the `artist_tags` data with the set of labels generated by K-Means model. That is, for every artist we will now have the top tag, cluster id and artist name in a data structure."
   ]
  },
  {
   "cell_type": "code",
   "execution_count": 15,
   "metadata": {
    "collapsed": true
   },
   "outputs": [],
   "source": [
    "# Return a data structure that contains artist_id, artist_name, top tag, cluster_label for every artist\n",
    "def join_tags_labels(artists_data_tags, user_data, kmeans_model):\n",
    "    \n",
    "    joined_tags_labels = {}\n",
    "    for index, row in user_data['ArtistID'].iteritems():\n",
    "            if row in artists_data_tags:\n",
    "                artist_name = artists_data_tags[row]['artist_name']\n",
    "                top_tag = artists_data_tags[row]['top_tag']\n",
    "            else:\n",
    "                artist_name = None\n",
    "                top_tag = None\n",
    "            joined_tags_labels[row] = {'artist_name': artist_name, 'top_tag': top_tag, 'cluster_label': kmeans_model.labels_[index]}\n",
    "     \n",
    "    return joined_tags_labels\n",
    "\n",
    "# Run the function for all the models ?\n",
    "kmeans_5_joined = join_tags_labels(top_tags, user_art_mat, kmeans_5)\n",
    "kmeans_25_joined = join_tags_labels(top_tags, user_art_mat, kmeans_25)\n",
    "kmeans_50_joined = join_tags_labels(top_tags, user_art_mat, kmeans_50)\n"
   ]
  },
  {
   "cell_type": "markdown",
   "metadata": {},
   "source": [
    "**b**. Next we need to generate a genre for every cluster id we have (the cluster ids are from 0 to N-1). You can do this by **grouping** the data from the previous exercise on cluster id. \n",
    "\n",
    "One thing you might notice is that we typically get a bunch of different tags associated with every cluster. How do we pick one genre or tag from this ? To cover various tags that are part of the cluster, we will pick the **top 5** tags in each cluster and save the list of top-5 tags as the genre for the cluster.\n"
   ]
  },
  {
   "cell_type": "code",
   "execution_count": 17,
   "metadata": {
    "collapsed": true
   },
   "outputs": [],
   "source": [
    "def get_cluster_tag(joined_data):\n",
    "    cluster_tags = {}\n",
    "    \n",
    "    for key, value in joined_data.items():\n",
    "        if value['cluster_label'] not in cluster_tags:\n",
    "            cluster_tags[value['cluster_label']] = []\n",
    "        \n",
    "        cluster_tags[value['cluster_label']].append(value['top_tag'])\n",
    "        \n",
    "    return cluster_tags\n",
    "        "
   ]
  },
  {
   "cell_type": "code",
   "execution_count": 18,
   "metadata": {
    "collapsed": true
   },
   "outputs": [],
   "source": [
    "# Return a data structure that contains cluster_id, list of top 5 tags for every cluster\n",
    "def assign_cluster_tags(joined_data):\n",
    "    \n",
    "    cluster_tags = get_cluster_tag(joined_data)\n",
    "    \n",
    "    final_cluster_tags = {}\n",
    "    \n",
    "    for key, value in cluster_tags.items():\n",
    "#         final_cluster_tags[key] = [item for item, count in Counter(filter(None, value)).most_common(5)]\n",
    "        final_cluster_tags[key] = Counter(filter(None, value)).most_common(5)\n",
    "    \n",
    "    return final_cluster_tags\n",
    "    \n",
    "kmeans_5_genres = assign_cluster_tags(kmeans_5_joined)\n",
    "kmeans_25_genres = assign_cluster_tags(kmeans_25_joined)\n",
    "kmeans_50_genres = assign_cluster_tags(kmeans_50_joined)"
   ]
  },
  {
   "cell_type": "markdown",
   "metadata": {},
   "source": [
    "**d**. Compute the purity for each of our K-Means models. To do this find the top tags of all artists that belong to a cluster. Check what fraction of these tags are covered by the top 5 tags of the cluster. Average this value across all clusters. **HINT**: We used similar ideas to get the top 5 tags in a cluster. "
   ]
  },
  {
   "cell_type": "code",
   "execution_count": 20,
   "metadata": {},
   "outputs": [
    {
     "name": "stdout",
     "output_type": "stream",
     "text": [
      "Purity for KMeans with 5 centers 0.359793 \n",
      "Purity for KMeans with 25 centers 0.582875 \n",
      "Purity for KMeans with 50 centers 0.688268 \n"
     ]
    }
   ],
   "source": [
    "def get_cluster_purity(joined_data):\n",
    "    cluster_tags = get_cluster_tag(joined_data)\n",
    "    \n",
    "    cluster_top_tags = {}\n",
    "    \n",
    "    for key, value in cluster_tags.items():\n",
    "        total_length = len(value)\n",
    "        tags_count = [count for item, count in Counter(filter(None, value)).most_common(5)]\n",
    "        cluster_top_tags[key] = float(sum(tags_count)) / total_length\n",
    "        \n",
    "    return np.mean([ratio for cluster_id, ratio in cluster_top_tags.items()])\n",
    "    \n",
    "print \"Purity for KMeans with 5 centers %lf \" % get_cluster_purity(kmeans_5_joined)\n",
    "print \"Purity for KMeans with 25 centers %lf \" % get_cluster_purity(kmeans_25_joined)\n",
    "print \"Purity for KMeans with 50 centers %lf \" % get_cluster_purity(kmeans_50_joined)"
   ]
  },
  {
   "cell_type": "markdown",
   "metadata": {},
   "source": [
    "**e**. To compute the accuracy first get all the unique tags from *top_tags*. Then for each tag, compute how many artists are found in the largest cluster. We denote these as correct cluster assignments. For example, lets take a tag 'rock'. If there are 100 artists with tag 'rock' and say 90 of them are in one cluster while 10 of them are in another. Then we have 90 correct cluster assignments\n",
    "\n",
    "Add the number of correct cluster assignments for all tags and divide this by the total size of the training data to get the accuracy for a model."
   ]
  },
  {
   "cell_type": "code",
   "execution_count": 25,
   "metadata": {},
   "outputs": [
    {
     "name": "stdout",
     "output_type": "stream",
     "text": [
      "Accuracy of KMeans with 5 centers 70.153806 \n",
      "Accuracy of KMeans with 25 centers 98.521993 \n",
      "Accuracy of KMeans with 50 centers 105.486360 \n"
     ]
    }
   ],
   "source": [
    "def get_accuracy(joined_data):\n",
    "    \n",
    "    cluster_tags = get_cluster_tag(joined_data)\n",
    "    \n",
    "    correct_tags_assignments = []\n",
    "    \n",
    "    counted_tags = {}\n",
    "    \n",
    "    total_training_data = len(joined_data)\n",
    "    \n",
    "    for cluster_id, tag_list in cluster_tags.items():\n",
    "        counted_tags[cluster_id] = Counter(tag_list)\n",
    "    \n",
    "    for artist_id, value in top_tags.items():\n",
    "        max_count = 0\n",
    "        total_count = 0\n",
    "        \n",
    "        for cluster_id, tag_list in cluster_tags.items():\n",
    "            local_counted_tags = counted_tags[cluster_id]\n",
    "            count = local_counted_tags[value['top_tag']]\n",
    "            max_count = count if count > max_count else max_count\n",
    "            total_count += count\n",
    "        \n",
    "        correct_assignment = total_count - max_count\n",
    "        \n",
    "        correct_tags_assignments.append(correct_assignment)\n",
    "   \n",
    "    return sum(correct_tags_assignments) / float(total_training_data)\n",
    "        \n",
    "    \n",
    "print \"Accuracy of KMeans with 5 centers %lf \" % get_accuracy(kmeans_5_joined)\n",
    "print \"Accuracy of KMeans with 25 centers %lf \" % get_accuracy(kmeans_25_joined)\n",
    "print \"Accuracy of KMeans with 50 centers %lf \" % get_accuracy(kmeans_50_joined)"
   ]
  },
  {
   "cell_type": "markdown",
   "metadata": {},
   "source": [
    "**f.** What do the numbers tell you about the models? Do you have a favorite?"
   ]
  },
  {
   "cell_type": "markdown",
   "metadata": {},
   "source": [
    ">As we increase the number of clusters, we get better accuracy and purity of the model. I believe kmeans with 25 centers is a good model considering that it gives us a significantly better accuracy and purity than the one with 5 clusters but not too far off from the 50 clusters. The 50 clusters model also has a very low Silhouette Score, which could indicate that we're breaking it up into too many clusters."
   ]
  },
  {
   "cell_type": "markdown",
   "metadata": {},
   "source": [
    "### 1.5 Evaluating Test Data\n",
    "Finally we can treat the clustering model as a multi-class classifier and make predictions on external test data. To do this we load the test data file **userart-mat-test.csv** and for every artist in the file we use the K-Means model to predict a cluster. We mark our prediction as successful if the artist's top tag belongs to one of the five tags for the cluster. \n",
    "\n",
    "#### Exercise 5"
   ]
  },
  {
   "cell_type": "markdown",
   "metadata": {},
   "source": [
    "**a** Load the testdata file and create a NumPy matrix named user_np_matrix_test."
   ]
  },
  {
   "cell_type": "code",
   "execution_count": 27,
   "metadata": {},
   "outputs": [
    {
     "data": {
      "text/plain": [
       "(1902, 846)"
      ]
     },
     "execution_count": 27,
     "metadata": {},
     "output_type": "execute_result"
    }
   ],
   "source": [
    "user_art_mat_test = parse_user_artists_matrix(DATA_PATH + \"/userart-mat-test.csv\")\n",
    "# NOTE: the astype(float) converts integer to floats here\n",
    "user_np_matrix_test = create_user_matrix(user_art_mat_test).astype(float)\n",
    "\n",
    "user_np_matrix_test.shape # Should be (1902, 846)"
   ]
  },
  {
   "cell_type": "markdown",
   "metadata": {},
   "source": [
    "**b.** For each artist in the test set, call **[predict](http://scikit-learn.org/stable/modules/generated/sklearn.cluster.KMeans.html#sklearn.cluster.KMeans.predict)** to get the predicted cluster. Join the predicted labels with test artist ids. Return 'artist_id', 'predicted_label' for every artist in the test dataset."
   ]
  },
  {
   "cell_type": "code",
   "execution_count": 37,
   "metadata": {},
   "outputs": [],
   "source": [
    "# For every artist return a list of labels\n",
    "def predict_cluster(test_data, test_np_matrix, kmeans_model):\n",
    "    \n",
    "    predicted_labels = kmeans_model.predict(test_np_matrix)\n",
    "    \n",
    "    output_data = {}\n",
    "    \n",
    "    for index, artist_id in test_data['ArtistID'].iteritems():\n",
    "        output_data[artist_id] = predicted_labels[index]\n",
    "    \n",
    "    return output_data\n",
    "\n",
    "\n",
    "# Call the function for every model from before\n",
    "kmeans_5_predicted = predict_cluster(user_art_mat_test, user_np_matrix_test, kmeans_5)\n",
    "kmeans_25_predicted = predict_cluster(user_art_mat_test, user_np_matrix_test, kmeans_25)\n",
    "kmeans_50_predicted = predict_cluster(user_art_mat_test, user_np_matrix_test, kmeans_50)"
   ]
  },
  {
   "cell_type": "markdown",
   "metadata": {},
   "source": [
    "**c**. Get the tags for the predicted genre and the tag for the artist from `top_tags`. Output the percentage of artists for whom the top tag is one of the five that describe its cluster. This is the *recall* of our model.\n",
    ">NOTE: Since the tag data is not from the same source as user plays, there are artists in the test set for whom we do not have top tags. You should exclude these artists while making predictions and while computing the recall."
   ]
  },
  {
   "cell_type": "code",
   "execution_count": 46,
   "metadata": {
    "collapsed": true
   },
   "outputs": [],
   "source": [
    "# Calculate recall for our predictions\n",
    "def verify_predictions(predicted_artist_labels, cluster_genres, top_tag_data):\n",
    "    \n",
    "    total_artists = 0\n",
    "    correct_prediction_count = 0\n",
    "    \n",
    "    for artist_id, predicted_label in predicted_artist_labels.items():\n",
    "        if artist_id in top_tag_data:\n",
    "            predicted_tags = [label for label, count in cluster_genres[predicted_label]]\n",
    "            artist_top_tag = top_tag_data[artist_id]['top_tag']\n",
    "            total_artists += 1\n",
    "            \n",
    "            if artist_top_tag in predicted_tags:\n",
    "                correct_prediction_count += 1\n",
    "    \n",
    "    return float(correct_prediction_count) / total_artists\n",
    "            "
   ]
  },
  {
   "cell_type": "markdown",
   "metadata": {},
   "source": [
    "**d**. Print the recall for each KMeans model. We define recall as num_correct_predictions / num_artists_in_test_data"
   ]
  },
  {
   "cell_type": "code",
   "execution_count": 47,
   "metadata": {},
   "outputs": [
    {
     "name": "stdout",
     "output_type": "stream",
     "text": [
      "Recall of KMeans with 5 centers 0.224290 \n",
      "Recall of KMeans with 25 centers 0.355534 \n",
      "Recall of KMeans with 50 centers 0.397649 \n"
     ]
    }
   ],
   "source": [
    "# Use verify_predictions for every model\n",
    "print \"Recall of KMeans with 5 centers %lf \" % verify_predictions(kmeans_5_predicted, kmeans_5_genres, top_tags)\n",
    "print \"Recall of KMeans with 25 centers %lf \" % verify_predictions(kmeans_25_predicted, kmeans_25_genres, top_tags)\n",
    "print \"Recall of KMeans with 50 centers %lf \" % verify_predictions(kmeans_50_predicted, kmeans_50_genres, top_tags)"
   ]
  },
  {
   "cell_type": "markdown",
   "metadata": {},
   "source": [
    "### 1.5 Visualizing Clusters using PCA\n",
    "\n",
    "Another way to evaluate clustering is to visualize the output of clustering. However the data we are working with is in 846 dimensions !, so it is hard to visualize or plot this. Thus the first step for visualization is to reduce the dimensionality of the data. To do this we can use [Prinicipal Component Analysis (PCA)](http://en.wikipedia.org/wiki/Principal_component_analysis). PCA reduces the dimension of data and keeps only the most significant components of it. This is a commonly used technique to visualize data from high dimensional spaces.\n",
    "\n",
    ">**NOTE**: We use [RandomizedPCA](http://scikit-learn.org/stable/modules/decomposition.html#approximate-pca), an approximate version of the algorithm as this has lower memory requirements. The approximate version is good enough when we are reducing to a few dimensions (2 in this case). We also sample the input data before PCA to further reduce memory requirements.\n",
    "\n",
    "#### Exercise 6\n",
    "\n",
    "**a**. Calcluate the RandomizedPCA of the sampled training data set `sampled_data` and reduce it to 2 components. Use the [fit_transform](http://scikit-learn.org/stable/modules/generated/sklearn.decomposition.RandomizedPCA.html#sklearn.decomposition.RandomizedPCA.fit_transform) method to do this."
   ]
  },
  {
   "cell_type": "code",
   "execution_count": 72,
   "metadata": {
    "collapsed": true
   },
   "outputs": [],
   "source": [
    "sample_percent = 0.20\n",
    "rows_to_sample = int(np.ceil(sample_percent * user_np_matrix.shape[0]))\n",
    "# sampled_data = user_art_mat.as_matrix()[np.random.choice(user_art_mat.shape[0], rows_to_sample, replace=False)]\n",
    "sampled_data = user_art_mat.sample(n=rows_to_sample)"
   ]
  },
  {
   "cell_type": "code",
   "execution_count": 76,
   "metadata": {},
   "outputs": [
    {
     "name": "stderr",
     "output_type": "stream",
     "text": [
      "/home/siddiqui/anaconda2/lib/python2.7/site-packages/sklearn/utils/deprecation.py:52: DeprecationWarning: Class RandomizedPCA is deprecated; RandomizedPCA was deprecated in 0.18 and will be removed in 0.20. Use PCA(svd_solver='randomized') instead. The new implementation DOES NOT store whiten ``components_``. Apply transform to get them.\n",
      "  warnings.warn(msg, category=DeprecationWarning)\n"
     ]
    }
   ],
   "source": [
    "# Return the data reduced to 2 principal components\n",
    "def get_reduced_data(input_data):\n",
    "    \n",
    "    input_data_matrix_test = create_user_matrix(input_data).astype(float)\n",
    "    \n",
    "    return RandomizedPCA(n_components=2).fit_transform(input_data_matrix_test)\n",
    "\n",
    "user_np_2d = get_reduced_data(sampled_data)"
   ]
  },
  {
   "cell_type": "markdown",
   "metadata": {},
   "source": [
    "**b**. Fit the reduced data with the KMeans model with 5 cluster centers. Plot the cluster centers and all the points. Make sure to color points in every cluster differently to see a visual separation. You may find [`scatter`](http://matplotlib.org/api/pyplot_api.html#matplotlib.pyplot.scatter) and [`plot`](http://matplotlib.org/api/pyplot_api.html#matplotlib.pyplot.plot) functions from matplotlib to be useful.\n"
   ]
  },
  {
   "cell_type": "code",
   "execution_count": 77,
   "metadata": {},
   "outputs": [
    {
     "name": "stdout",
     "output_type": "stream",
     "text": [
      "Populating the interactive namespace from numpy and matplotlib\n"
     ]
    },
    {
     "data": {
      "image/png": "[encoded data removed]",
      "text/plain": [
       "<matplotlib.figure.Figure at 0x7f893c7c3250>"
      ]
     },
     "metadata": {},
     "output_type": "display_data"
    }
   ],
   "source": [
    "# TODO: Write code to fit and plot reduced_data.\n",
    "import pylab as pl\n",
    "%pylab inline\n",
    "\n",
    "plot_input_data = user_np_2d\n",
    "\n",
    "plot_input_kmeans_5 = KMeans(n_clusters=5, n_init=1).fit(plot_input_data)\n",
    "\n",
    "\n",
    "pl.figure('PCA Sampled Data')\n",
    "plt.scatter(plot_input_data[:, 0], plot_input_data[:, 1], c=plot_input_kmeans_5.labels_)\n",
    "plt.title(\"PCA Sampled Data\")\n",
    "\n",
    "plt.show()"
   ]
  }
 ],
 "metadata": {
  "kernelspec": {
   "display_name": "Python 2",
   "language": "python",
   "name": "python2"
  },
  "language_info": {
   "codemirror_mode": {
    "name": "ipython",
    "version": 2
   },
   "file_extension": ".py",
   "mimetype": "text/x-python",
   "name": "python",
   "nbconvert_exporter": "python",
   "pygments_lexer": "ipython2",
   "version": "2.7.13"
  }
 },
 "nbformat": 4,
 "nbformat_minor": 1
}
